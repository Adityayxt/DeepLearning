{
 "cells": [
  {
   "cell_type": "markdown",
   "metadata": {},
   "source": [
    "# Programming Assignment: Build a CNN for image recognition.\n",
    "\n",
    "### Name: XinTong Yu\n",
    "### Student ID: 20033118\n"
   ]
  },
  {
   "cell_type": "markdown",
   "metadata": {},
   "source": [
    "## 0. You will do the following:\n",
    "\n",
    "1. Read, complete, and run the code.\n",
    "\n",
    "2. **Make substantial improvements** to maximize the accuracy.\n",
    "    \n",
    "3. Convert the .IPYNB file to .HTML file.\n",
    "\n",
    "    * The HTML file must contain the code and the output after execution.\n",
    "    \n",
    "    * Missing **the output after execution** will not be graded.\n",
    "\n",
    "\n",
    "4. Upload the .HTML file to your Google Drive, Dropbox, or Github repo. (If you submit the file to Google Drive or Dropbox, you must make the file \"open-access\". The delay caused by \"deny of access\" may result in late penalty.)\n",
    "\n",
    "4. On Canvas, submit the Google Drive/Dropbox/Github link to the HTML file.\n",
    "\n",
    "\n",
    "## Requirements:\n",
    "\n",
    "1. You can use whatever CNN architecture, including VGG, Inception, and ResNet. However, you must build the networks layer by layer. You must NOT import the archetectures from ```keras.applications```.\n",
    "\n",
    "2. Make sure ```BatchNormalization``` is between a ```Conv```/```Dense``` layer and an ```activation``` layer.\n",
    "\n",
    "3. If you want to regularize a ```Conv```/```Dense``` layer, you should place a ```Dropout``` layer **before** the ```Conv```/```Dense``` layer.\n",
    "\n",
    "4. An accuracy above 70% is considered reasonable. An accuracy above 80% is considered good. Without data augmentation, achieving 80% accuracy is difficult.\n",
    "\n",
    "\n",
    "## Google Colab\n",
    "\n",
    "- If you do not have GPU, the training of a CNN can be slow. Google Colab is a good option.\n",
    "\n",
    "- Keep in mind that you must download it as an IPYNB file and then use IPython Notebook to convert it to HTML.\n",
    "\n",
    "- Also keep in mind that the IPYNB and HTML files must contain the outputs. (Otherwise, the instructor will not be able to know the correctness and performance.) Do the followings to keep the outputs.\n",
    "\n",
    "- In Colab, go to ```Runtime``` --> ```Change runtime type``` --> Do NOT check ```Omit code cell output when saving this notebook```. In this way, the downloaded IPYNB file contains the outputs."
   ]
  },
  {
   "cell_type": "markdown",
   "metadata": {},
   "source": [
    "## 1. Data preparation"
   ]
  },
  {
   "cell_type": "markdown",
   "metadata": {},
   "source": [
    "### 1.1. Load data\n"
   ]
  },
  {
   "cell_type": "code",
   "metadata": {
    "ExecuteTime": {
     "end_time": "2025-10-09T09:20:11.594978Z",
     "start_time": "2025-10-09T09:20:11.382324Z"
    }
   },
   "source": [
    "import numpy as np\n",
    "import pickle\n",
    "import os\n",
    "\n",
    "# Path to the dataset\n",
    "data_dir = './cifar-10-batches-py'\n",
    "\n",
    "# Function to load a single batch\n",
    "def load_batch(filepath):\n",
    "    with open(filepath, 'rb') as f:\n",
    "        dict = pickle.load(f, encoding='bytes')\n",
    "        data = dict[b'data']\n",
    "        labels = dict[b'labels']\n",
    "        data = data.reshape(-1, 3, 32, 32).transpose(0, 2, 3, 1)\n",
    "        return data, np.array(labels)\n",
    "\n",
    "# Load training data (5 batches)\n",
    "x_train = []\n",
    "y_train = []\n",
    "for i in range(1, 6):\n",
    "    batch_path = os.path.join(data_dir, f'data_batch_{i}')\n",
    "    data, labels = load_batch(batch_path)\n",
    "    x_train.append(data)\n",
    "    y_train.append(labels)\n",
    "x_train = np.concatenate(x_train)\n",
    "y_train = np.concatenate(y_train).reshape(-1, 1)\n",
    "\n",
    "# Load test data\n",
    "x_test, y_test = load_batch(os.path.join(data_dir, 'test_batch'))\n",
    "y_test = y_test.reshape(-1, 1)\n",
    "\n",
    "# Print shapes for verification\n",
    "print('Shape of x_train:', x_train.shape)  # Expected: (50000, 32, 32, 3)\n",
    "print('Shape of y_train:', y_train.shape)  # Expected: (50000, 1)\n",
    "print('Shape of x_test:', x_test.shape)    # Expected: (10000, 32, 32, 3)\n",
    "print('Shape of y_test:', y_test.shape)    # Expected: (10000, 1)"
   ],
   "outputs": [
    {
     "name": "stdout",
     "output_type": "stream",
     "text": [
      "Shape of x_train: (50000, 32, 32, 3)\n",
      "Shape of y_train: (50000, 1)\n",
      "Shape of x_test: (10000, 32, 32, 3)\n",
      "Shape of y_test: (10000, 1)\n"
     ]
    }
   ],
   "execution_count": 21
  },
  {
   "cell_type": "markdown",
   "metadata": {},
   "source": [
    "### 1.2. One-hot encode the labels\n",
    "\n",
    "In the input, a label is a scalar in $\\{0, 1, \\cdots , 9\\}$. One-hot encode transform such a scalar to a $10$-dim vector. E.g., a scalar ```y_train[j]=3``` is transformed to the vector ```y_train_vec[j]=[0, 0, 0, 1, 0, 0, 0, 0, 0, 0]```.\n",
    "\n",
    "1. Define a function ```to_one_hot``` that transforms an $n\\times 1$ array to a $n\\times 10$ matrix.\n",
    "\n",
    "2. Apply the function to ```y_train``` and ```y_test```."
   ]
  },
  {
   "cell_type": "code",
   "metadata": {
    "ExecuteTime": {
     "end_time": "2025-10-09T09:20:25.831846Z",
     "start_time": "2025-10-09T09:20:25.813808Z"
    }
   },
   "source": [
    "def to_one_hot(y, num_class=10):\n",
    "    return np.eye(num_class)[y.reshape(-1)]\n",
    "\n",
    "y_train_vec = to_one_hot(y_train)\n",
    "y_test_vec = to_one_hot(y_test)\n",
    "\n",
    "print('Shape of y_train_vec:', y_train_vec.shape)  # (50000, 10)\n",
    "print('Shape of y_test_vec:', y_test_vec.shape)    # (10000, 10)\n",
    "print('Example label:', y_train[0])\n",
    "print('One-hot encoded:', y_train_vec[0])"
   ],
   "outputs": [
    {
     "name": "stdout",
     "output_type": "stream",
     "text": [
      "Shape of y_train_vec: (50000, 10)\n",
      "Shape of y_test_vec: (10000, 10)\n",
      "Example label: [6]\n",
      "One-hot encoded: [0. 0. 0. 0. 0. 0. 1. 0. 0. 0.]\n"
     ]
    }
   ],
   "execution_count": 22
  },
  {
   "cell_type": "markdown",
   "metadata": {},
   "source": [
    "#### Remark: the outputs should be\n",
    "* Shape of y_train_vec: (50000, 10)\n",
    "* Shape of y_test_vec: (10000, 10)\n",
    "* [6]\n",
    "* [0. 0. 0. 0. 0. 0. 1. 0. 0. 0.]"
   ]
  },
  {
   "cell_type": "markdown",
   "metadata": {},
   "source": [
    "### 1.3. Randomly partition the training set to training and validation sets\n",
    "\n",
    "Randomly partition the 50K training samples to 2 sets:\n",
    "* a training set containing 40K samples\n",
    "* a validation set containing 10K samples\n"
   ]
  },
  {
   "cell_type": "code",
   "metadata": {
    "ExecuteTime": {
     "end_time": "2025-10-09T09:22:56.891593Z",
     "start_time": "2025-10-09T09:22:56.775117Z"
    }
   },
   "source": [
    "import numpy as np\n",
    "\n",
    "# Randomly shuffle the indices\n",
    "rand_indices = np.random.permutation(50000)\n",
    "\n",
    "# First 40,000 samples for training, last 10,000 samples for validation\n",
    "train_indices = rand_indices[:40000]\n",
    "valid_indices = rand_indices[40000:]\n",
    "\n",
    "# Extract subsets from the original data\n",
    "x_tr = x_train[train_indices]\n",
    "y_tr = y_train_vec[train_indices]\n",
    "\n",
    "x_val = x_train[valid_indices]\n",
    "y_val = y_train_vec[valid_indices]\n",
    "\n",
    "# Print shapes for verification\n",
    "print('Shape of x_tr:  ', x_tr.shape)   # (40000, 32, 32, 3)\n",
    "print('Shape of y_tr:  ', y_tr.shape)   # (40000, 10)\n",
    "print('Shape of x_val: ', x_val.shape)  # (10000, 32, 32, 3)\n",
    "print('Shape of y_val: ', y_val.shape)  # (10000, 10)"
   ],
   "outputs": [
    {
     "name": "stdout",
     "output_type": "stream",
     "text": [
      "Shape of x_tr:   (40000, 32, 32, 3)\n",
      "Shape of y_tr:   (40000, 10)\n",
      "Shape of x_val:  (10000, 32, 32, 3)\n",
      "Shape of y_val:  (10000, 10)\n"
     ]
    }
   ],
   "execution_count": 23
  },
  {
   "cell_type": "markdown",
   "metadata": {},
   "source": [
    "## 2. Build a CNN and tune its hyper-parameters\n",
    "\n",
    "1. Build a convolutional neural network model\n",
    "2. Use the validation data to tune the hyper-parameters (e.g., network structure, and optimization algorithm)\n",
    "    * Do NOT use test data for hyper-parameter tuning!!!\n",
    "3. Try to achieve a validation accuracy as high as possible."
   ]
  },
  {
   "cell_type": "markdown",
   "metadata": {},
   "source": [
    "### Remark: \n",
    "\n",
    "The following CNN is just an example. You are supposed to make **substantial improvements** such as:\n",
    "* Add more layers.\n",
    "* Use regularizations, e.g., dropout.\n",
    "* Use batch normalization."
   ]
  },
  {
   "cell_type": "code",
   "metadata": {
    "ExecuteTime": {
     "end_time": "2025-10-09T09:23:35.995179Z",
     "start_time": "2025-10-09T09:23:35.855675Z"
    }
   },
   "source": [
    "from tensorflow.keras.models import Sequential\n",
    "from tensorflow.keras.layers import (\n",
    "    Conv2D, MaxPooling2D, Flatten, Dense, Dropout, BatchNormalization\n",
    ")\n",
    "\n",
    "model = Sequential()\n",
    "\n",
    "# Conv Block 1\n",
    "model.add(Conv2D(32, (3, 3), activation='relu', padding='same', input_shape=(32, 32, 3)))\n",
    "model.add(BatchNormalization())\n",
    "model.add(Conv2D(32, (3, 3), activation='relu', padding='same'))\n",
    "model.add(MaxPooling2D((2, 2)))\n",
    "model.add(Dropout(0.25))\n",
    "\n",
    "# Conv Block 2\n",
    "model.add(Conv2D(64, (3, 3), activation='relu', padding='same'))\n",
    "model.add(BatchNormalization())\n",
    "model.add(Conv2D(64, (3, 3), activation='relu', padding='same'))\n",
    "model.add(MaxPooling2D((2, 2)))\n",
    "model.add(Dropout(0.25))\n",
    "\n",
    "# Dense Block\n",
    "model.add(Flatten())\n",
    "model.add(Dense(128, activation='relu'))\n",
    "model.add(Dropout(0.5))\n",
    "model.add(Dense(10, activation='softmax'))  # 10 类输出\n",
    "\n",
    "model.summary()"
   ],
   "outputs": [
    {
     "name": "stdout",
     "output_type": "stream",
     "text": [
      "Model: \"sequential_5\"\n",
      "_________________________________________________________________\n",
      " Layer (type)                Output Shape              Param #   \n",
      "=================================================================\n",
      " conv2d_12 (Conv2D)          (None, 32, 32, 32)        896       \n",
      "                                                                 \n",
      " batch_normalization_2 (Bat  (None, 32, 32, 32)        128       \n",
      " chNormalization)                                                \n",
      "                                                                 \n",
      " conv2d_13 (Conv2D)          (None, 32, 32, 32)        9248      \n",
      "                                                                 \n",
      " max_pooling2d_10 (MaxPooli  (None, 16, 16, 32)        0         \n",
      " ng2D)                                                           \n",
      "                                                                 \n",
      " dropout_3 (Dropout)         (None, 16, 16, 32)        0         \n",
      "                                                                 \n",
      " conv2d_14 (Conv2D)          (None, 16, 16, 64)        18496     \n",
      "                                                                 \n",
      " batch_normalization_3 (Bat  (None, 16, 16, 64)        256       \n",
      " chNormalization)                                                \n",
      "                                                                 \n",
      " conv2d_15 (Conv2D)          (None, 16, 16, 64)        36928     \n",
      "                                                                 \n",
      " max_pooling2d_11 (MaxPooli  (None, 8, 8, 64)          0         \n",
      " ng2D)                                                           \n",
      "                                                                 \n",
      " dropout_4 (Dropout)         (None, 8, 8, 64)          0         \n",
      "                                                                 \n",
      " flatten_5 (Flatten)         (None, 4096)              0         \n",
      "                                                                 \n",
      " dense_10 (Dense)            (None, 128)               524416    \n",
      "                                                                 \n",
      " dropout_5 (Dropout)         (None, 128)               0         \n",
      "                                                                 \n",
      " dense_11 (Dense)            (None, 10)                1290      \n",
      "                                                                 \n",
      "=================================================================\n",
      "Total params: 591658 (2.26 MB)\n",
      "Trainable params: 591466 (2.26 MB)\n",
      "Non-trainable params: 192 (768.00 Byte)\n",
      "_________________________________________________________________\n"
     ]
    }
   ],
   "execution_count": 24
  },
  {
   "cell_type": "code",
   "metadata": {
    "ExecuteTime": {
     "end_time": "2025-10-09T09:23:58.888573Z",
     "start_time": "2025-10-09T09:23:58.881691Z"
    }
   },
   "source": [
    "from tensorflow.keras.optimizers.legacy import Adam\n",
    "\n",
    "learning_rate = 1e-3\n",
    "\n",
    "model.compile(\n",
    "    loss='categorical_crossentropy',\n",
    "    optimizer=Adam(learning_rate=learning_rate),\n",
    "    metrics=['accuracy']\n",
    ")"
   ],
   "outputs": [],
   "execution_count": 25
  },
  {
   "cell_type": "code",
   "metadata": {
    "ExecuteTime": {
     "end_time": "2025-10-09T09:48:07.236709Z",
     "start_time": "2025-10-09T09:29:54.908031Z"
    }
   },
   "source": [
    "# Train the model\n",
    "\n",
    "history = model.fit(\n",
    "    x_tr, y_tr,\n",
    "    batch_size=64,\n",
    "    epochs=20,\n",
    "    validation_data=(x_val, y_val),\n",
    "    verbose=1\n",
    ")"
   ],
   "outputs": [
    {
     "name": "stdout",
     "output_type": "stream",
     "text": [
      "Epoch 1/20\n",
      "625/625 [==============================] - 46s 74ms/step - loss: 1.9963 - accuracy: 0.2219 - val_loss: 1.7330 - val_accuracy: 0.3312\n",
      "Epoch 2/20\n",
      "625/625 [==============================] - 41s 66ms/step - loss: 1.7908 - accuracy: 0.2831 - val_loss: 1.9355 - val_accuracy: 0.3372\n",
      "Epoch 3/20\n",
      "625/625 [==============================] - 54s 86ms/step - loss: 1.6662 - accuracy: 0.3431 - val_loss: 1.3538 - val_accuracy: 0.5107\n",
      "Epoch 4/20\n",
      "625/625 [==============================] - 53s 84ms/step - loss: 1.4928 - accuracy: 0.4263 - val_loss: 1.2094 - val_accuracy: 0.5810\n",
      "Epoch 5/20\n",
      "625/625 [==============================] - 51s 82ms/step - loss: 1.3367 - accuracy: 0.4949 - val_loss: 1.1218 - val_accuracy: 0.6160\n",
      "Epoch 6/20\n",
      "625/625 [==============================] - 59s 94ms/step - loss: 1.2166 - accuracy: 0.5545 - val_loss: 1.4288 - val_accuracy: 0.5275\n",
      "Epoch 7/20\n",
      "625/625 [==============================] - 60s 96ms/step - loss: 1.0951 - accuracy: 0.6075 - val_loss: 0.9847 - val_accuracy: 0.6506\n",
      "Epoch 8/20\n",
      "625/625 [==============================] - 57s 91ms/step - loss: 1.0168 - accuracy: 0.6387 - val_loss: 0.8662 - val_accuracy: 0.6996\n",
      "Epoch 9/20\n",
      "625/625 [==============================] - 56s 90ms/step - loss: 0.9455 - accuracy: 0.6638 - val_loss: 0.9551 - val_accuracy: 0.6686\n",
      "Epoch 10/20\n",
      "625/625 [==============================] - 67s 107ms/step - loss: 0.8906 - accuracy: 0.6873 - val_loss: 0.9140 - val_accuracy: 0.6947\n",
      "Epoch 11/20\n",
      "625/625 [==============================] - 66s 106ms/step - loss: 0.8532 - accuracy: 0.7025 - val_loss: 0.7956 - val_accuracy: 0.7228\n",
      "Epoch 12/20\n",
      "625/625 [==============================] - 68s 108ms/step - loss: 0.8237 - accuracy: 0.7100 - val_loss: 0.8612 - val_accuracy: 0.7101\n",
      "Epoch 13/20\n",
      "625/625 [==============================] - 63s 101ms/step - loss: 0.7795 - accuracy: 0.7250 - val_loss: 0.7239 - val_accuracy: 0.7547\n",
      "Epoch 14/20\n",
      "625/625 [==============================] - 56s 90ms/step - loss: 0.7585 - accuracy: 0.7318 - val_loss: 0.7811 - val_accuracy: 0.7371\n",
      "Epoch 15/20\n",
      "625/625 [==============================] - 60s 96ms/step - loss: 0.7341 - accuracy: 0.7448 - val_loss: 0.7183 - val_accuracy: 0.7571\n",
      "Epoch 16/20\n",
      "625/625 [==============================] - 60s 96ms/step - loss: 0.7143 - accuracy: 0.7502 - val_loss: 0.7221 - val_accuracy: 0.7514\n",
      "Epoch 17/20\n",
      "625/625 [==============================] - 49s 79ms/step - loss: 0.6832 - accuracy: 0.7618 - val_loss: 0.7001 - val_accuracy: 0.7651\n",
      "Epoch 18/20\n",
      "625/625 [==============================] - 41s 66ms/step - loss: 0.6724 - accuracy: 0.7643 - val_loss: 0.7298 - val_accuracy: 0.7650\n",
      "Epoch 19/20\n",
      "625/625 [==============================] - 41s 66ms/step - loss: 0.6531 - accuracy: 0.7700 - val_loss: 0.7029 - val_accuracy: 0.7664\n",
      "Epoch 20/20\n",
      "625/625 [==============================] - 42s 68ms/step - loss: 0.6311 - accuracy: 0.7821 - val_loss: 0.6677 - val_accuracy: 0.7758\n"
     ]
    }
   ],
   "execution_count": 26
  },
  {
   "cell_type": "code",
   "metadata": {
    "ExecuteTime": {
     "end_time": "2025-10-09T08:53:32.538239Z",
     "start_time": "2025-10-09T08:53:32.120298Z"
    }
   },
   "source": [
    "# Plot training and validation accuracy\n",
    "\n",
    "import matplotlib.pyplot as plt\n",
    "\n",
    "acc = history.history['accuracy']\n",
    "val_acc = history.history['val_accuracy']\n",
    "epochs = range(1, len(acc) + 1)\n",
    "\n",
    "plt.plot(epochs, acc, 'bo-', label='Training accuracy')\n",
    "plt.plot(epochs, val_acc, 'r^-', label='Validation accuracy')\n",
    "plt.title('Training and Validation Accuracy')\n",
    "plt.xlabel('Epochs')\n",
    "plt.ylabel('Accuracy')\n",
    "plt.legend()\n",
    "plt.grid(True)\n",
    "plt.show()"
   ],
   "outputs": [
    {
     "data": {
      "text/plain": [
       "<Figure size 640x480 with 1 Axes>"
      ],
      "image/png": "[encoded data removed]"
     },
     "metadata": {},
     "output_type": "display_data",
     "jetTransient": {
      "display_id": null
     }
    }
   ],
   "execution_count": 14
  },
  {
   "cell_type": "markdown",
   "metadata": {},
   "source": [
    "## 3. Train (again) and evaluate the model\n",
    "\n",
    "- To this end, you have found the \"best\" hyper-parameters. \n",
    "- Now, fix the hyper-parameters and train the network on the entire training set (all the 50K training samples)\n",
    "- Evaluate your model on the test set."
   ]
  },
  {
   "cell_type": "markdown",
   "metadata": {},
   "source": [
    "### 3.1. Train the model on the entire training set\n",
    "\n",
    "Why? Previously, you used 40K samples for training; you wasted 10K samples for the sake of hyper-parameter tuning. Now you already know the hyper-parameters, so why not using all the 50K samples for training?"
   ]
  },
  {
   "cell_type": "code",
   "metadata": {
    "ExecuteTime": {
     "end_time": "2025-10-09T09:58:21.206200Z",
     "start_time": "2025-10-09T09:54:46.133454Z"
    }
   },
   "source": [
    "# Retrain the model on the full training set (50k samples)\n",
    "\n",
    "from tensorflow.keras.models import Sequential\n",
    "from tensorflow.keras.layers import Conv2D, MaxPooling2D, Flatten, Dense\n",
    "from tensorflow.keras.optimizers.legacy import Adam\n",
    "\n",
    "model_full = Sequential([\n",
    "    Conv2D(32, (3, 3), activation='relu', input_shape=(32, 32, 3)),\n",
    "    MaxPooling2D((2, 2)),\n",
    "    Conv2D(64, (3, 3), activation='relu'),\n",
    "    MaxPooling2D((2, 2)),\n",
    "    Flatten(),\n",
    "    Dense(64, activation='relu'),\n",
    "    Dense(10, activation='softmax')\n",
    "])\n",
    "\n",
    "model_full.compile(\n",
    "    loss='categorical_crossentropy',\n",
    "    optimizer=Adam(learning_rate=1e-3),\n",
    "    metrics=['accuracy']\n",
    ")\n",
    "\n",
    "# Combine training and validation sets to form the full training set\n",
    "x_train_full = np.concatenate((x_tr, x_val), axis=0)\n",
    "y_train_full = np.concatenate((y_tr, y_val), axis=0)\n",
    "\n",
    "# Retrain the model on the full training set\n",
    "history_full = model_full.fit(\n",
    "    x_train_full, y_train_full,\n",
    "    batch_size=64,\n",
    "    epochs=20,\n",
    "    verbose=1\n",
    ")"
   ],
   "outputs": [
    {
     "name": "stdout",
     "output_type": "stream",
     "text": [
      "Epoch 1/20\n",
      "782/782 [==============================] - 10s 12ms/step - loss: 2.2182 - accuracy: 0.3016\n",
      "Epoch 2/20\n",
      "782/782 [==============================] - 10s 12ms/step - loss: 1.3758 - accuracy: 0.5032\n",
      "Epoch 3/20\n",
      "782/782 [==============================] - 10s 13ms/step - loss: 1.1999 - accuracy: 0.5744\n",
      "Epoch 4/20\n",
      "782/782 [==============================] - 10s 12ms/step - loss: 1.0886 - accuracy: 0.6173\n",
      "Epoch 5/20\n",
      "782/782 [==============================] - 10s 13ms/step - loss: 1.0155 - accuracy: 0.6451\n",
      "Epoch 6/20\n",
      "782/782 [==============================] - 9s 12ms/step - loss: 0.9557 - accuracy: 0.6664\n",
      "Epoch 7/20\n",
      "782/782 [==============================] - 9s 12ms/step - loss: 0.8944 - accuracy: 0.6855\n",
      "Epoch 8/20\n",
      "782/782 [==============================] - 11s 14ms/step - loss: 0.8435 - accuracy: 0.7076\n",
      "Epoch 9/20\n",
      "782/782 [==============================] - 10s 13ms/step - loss: 0.8005 - accuracy: 0.7205\n",
      "Epoch 10/20\n",
      "782/782 [==============================] - 11s 13ms/step - loss: 0.7644 - accuracy: 0.7347\n",
      "Epoch 11/20\n",
      "782/782 [==============================] - 11s 14ms/step - loss: 0.7216 - accuracy: 0.7461\n",
      "Epoch 12/20\n",
      "782/782 [==============================] - 10s 12ms/step - loss: 0.6961 - accuracy: 0.7551\n",
      "Epoch 13/20\n",
      "782/782 [==============================] - 10s 13ms/step - loss: 0.6657 - accuracy: 0.7668\n",
      "Epoch 14/20\n",
      "782/782 [==============================] - 10s 13ms/step - loss: 0.6439 - accuracy: 0.7727\n",
      "Epoch 15/20\n",
      "782/782 [==============================] - 12s 15ms/step - loss: 0.6220 - accuracy: 0.7814\n",
      "Epoch 16/20\n",
      "782/782 [==============================] - 13s 16ms/step - loss: 0.6009 - accuracy: 0.7880\n",
      "Epoch 17/20\n",
      "782/782 [==============================] - 13s 16ms/step - loss: 0.5767 - accuracy: 0.7968\n",
      "Epoch 18/20\n",
      "782/782 [==============================] - 13s 17ms/step - loss: 0.5602 - accuracy: 0.8016\n",
      "Epoch 19/20\n",
      "782/782 [==============================] - 12s 15ms/step - loss: 0.5404 - accuracy: 0.8087\n",
      "Epoch 20/20\n",
      "782/782 [==============================] - 14s 18ms/step - loss: 0.5263 - accuracy: 0.8132\n"
     ]
    }
   ],
   "execution_count": 27
  },
  {
   "cell_type": "markdown",
   "metadata": {},
   "source": [
    "### 3.2. Evaluate the model on the test set\n",
    "\n",
    "Do NOT used the test set until now. Make sure that your model parameters and hyper-parameters are independent of the test set."
   ]
  },
  {
   "cell_type": "code",
   "metadata": {
    "ExecuteTime": {
     "end_time": "2025-10-09T10:00:38.416911Z",
     "start_time": "2025-10-09T10:00:35.744844Z"
    }
   },
   "source": [
    "loss_and_acc = model.evaluate(x_test, y_test_vec)\n",
    "print('loss = ' + str(loss_and_acc[0]))\n",
    "print('accuracy = ' + str(loss_and_acc[1]))"
   ],
   "outputs": [
    {
     "name": "stdout",
     "output_type": "stream",
     "text": [
      "313/313 [==============================] - 3s 8ms/step - loss: 0.6717 - accuracy: 0.7699\n",
      "loss = 0.6716848611831665\n",
      "accuracy = 0.7699000239372253\n"
     ]
    }
   ],
   "execution_count": 28
  },
  {
   "metadata": {
    "ExecuteTime": {
     "end_time": "2025-10-09T09:03:04.504965Z",
     "start_time": "2025-10-09T09:03:04.323635Z"
    }
   },
   "cell_type": "code",
   "source": [
    "# Plot the loss and accuracy curves from the retraining process\n",
    "import matplotlib.pyplot as plt\n",
    "\n",
    "acc = history_full.history['accuracy']\n",
    "loss = history_full.history['loss']\n",
    "epochs = range(1, len(acc) + 1)\n",
    "\n",
    "plt.plot(epochs, acc, 'bo-', label='Training accuracy')\n",
    "plt.plot(epochs, loss, 'ro-', label='Training loss')\n",
    "plt.title('Training Accuracy and Loss (Full Training Set)')\n",
    "plt.xlabel('Epochs')\n",
    "plt.ylabel('Value')\n",
    "plt.legend()\n",
    "plt.grid(True)\n",
    "plt.show()"
   ],
   "outputs": [
    {
     "data": {
      "text/plain": [
       "<Figure size 640x480 with 1 Axes>"
      ],
      "image/png": "[encoded data removed]"
     },
     "metadata": {},
     "output_type": "display_data",
     "jetTransient": {
      "display_id": null
     }
    }
   ],
   "execution_count": 20
  }
 ],
 "metadata": {
  "kernelspec": {
   "display_name": "Python 3",
   "language": "python",
   "name": "python3"
  },
  "language_info": {
   "codemirror_mode": {
    "name": "ipython",
    "version": 3
   },
   "file_extension": ".py",
   "mimetype": "text/x-python",
   "name": "python",
   "nbconvert_exporter": "python",
   "pygments_lexer": "ipython3",
   "version": "3.8.3"
  }
 },
 "nbformat": 4,
 "nbformat_minor": 2
}
